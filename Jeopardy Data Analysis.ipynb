{
 "cells": [
  {
   "cell_type": "code",
   "execution_count": 20,
   "metadata": {},
   "outputs": [],
   "source": [
    "import json\n",
    "import pandas as pd\n",
    "import matplotlib.pyplot as plt"
   ]
  },
  {
   "cell_type": "code",
   "execution_count": 5,
   "metadata": {},
   "outputs": [
    {
     "name": "stdout",
     "output_type": "stream",
     "text": [
      "Empty DataFrame\n",
      "Columns: [air_date, answer, category, question, round, show_number, value]\n",
      "Index: []\n"
     ]
    }
   ],
   "source": [
    "# read in data from file\n",
    "with open('JEOPARDY_QUESTIONS1.json') as f:\n",
    "    data = json.load(f)\n",
    "\n",
    "# convert json file into pandas data frame\n",
    "df = pd.DataFrame(data)\n",
    "print((df[:0]))"
   ]
  },
  {
   "cell_type": "code",
   "execution_count": 6,
   "metadata": {},
   "outputs": [
    {
     "name": "stdout",
     "output_type": "stream",
     "text": [
      "Number of Unique Categories Used in Jeopardy!:  27995\n"
     ]
    }
   ],
   "source": [
    "unique_categories = df.category.unique()\n",
    "print(\"Number of Unique Categories Used in Jeopardy!: \", len(unique_categories))"
   ]
  },
  {
   "cell_type": "code",
   "execution_count": 10,
   "metadata": {},
   "outputs": [],
   "source": [
    "d = dict.fromkeys(unique_categories, 0)\n",
    "count=0\n",
    "for index, row in df.iterrows():\n",
    "    d[(row['category'])] += 1"
   ]
  },
  {
   "cell_type": "code",
   "execution_count": 33,
   "metadata": {},
   "outputs": [
    {
     "name": "stdout",
     "output_type": "stream",
     "text": [
      "There are 27995 unique categories used in Jeopardy!\n",
      "The category used most often appears 109 times\n"
     ]
    }
   ],
   "source": [
    "nums = d.values()\n",
    "max_val = max(nums)\n",
    "print(\"There are\", len(nums), \"unique categories used in Jeopardy!\")\n",
    "print(\"The category used most often appears\", max_val//5, \"times\") # divide by five because of 5 dollar values"
   ]
  },
  {
   "cell_type": "code",
   "execution_count": 38,
   "metadata": {},
   "outputs": [
    {
     "name": "stdout",
     "output_type": "stream",
     "text": [
      "The most commonly used category is: BEFORE & AFTER\n"
     ]
    }
   ],
   "source": [
    "# find value based on key\n",
    "for category, count in d.items():\n",
    "    if count == max_val:\n",
    "        print(\"The most commonly used category is:\", category)"
   ]
  },
  {
   "cell_type": "code",
   "execution_count": 30,
   "metadata": {},
   "outputs": [],
   "source": [
    "# sorts and plots all categories - takes a while to run on 28,000 elements - we are at Best Concievable Runtime\n",
    "\n",
    "# lists = sorted(d.items()) # sorted by key, return a list of tuples\n",
    "\n",
    "# x, y = zip(*lists) # unpack a list of pairs into two tuples\n",
    "\n",
    "# plt.plot(x, y)\n",
    "# plt.show()"
   ]
  },
  {
   "cell_type": "code",
   "execution_count": null,
   "metadata": {},
   "outputs": [],
   "source": []
  }
 ],
 "metadata": {
  "kernelspec": {
   "display_name": "Python 3",
   "language": "python",
   "name": "python3"
  },
  "language_info": {
   "codemirror_mode": {
    "name": "ipython",
    "version": 3
   },
   "file_extension": ".py",
   "mimetype": "text/x-python",
   "name": "python",
   "nbconvert_exporter": "python",
   "pygments_lexer": "ipython3",
   "version": "3.6.0"
  }
 },
 "nbformat": 4,
 "nbformat_minor": 2
}
